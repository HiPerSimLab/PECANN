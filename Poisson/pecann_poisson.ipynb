{
 "cells": [
  {
   "cell_type": "code",
   "execution_count": 1,
   "id": "90435473-6d57-4301-a072-417aebb6d857",
   "metadata": {},
   "outputs": [],
   "source": [
    "import time\n",
    "import os\n",
    "import torch\n",
    "import torch.nn as nn\n",
    "import numpy as np\n",
    "\n",
    "from torch.optim import Adam\n",
    "from torch.optim.lr_scheduler import ReduceLROnPlateau\n",
    "from tqdm import tqdm\n",
    "torch.set_default_dtype(torch.float64)\n"
   ]
  },
  {
   "cell_type": "code",
   "execution_count": 2,
   "id": "2eac956d-a1a3-4601-b868-945dd7b83d6d",
   "metadata": {},
   "outputs": [],
   "source": [
    "class ConventBlock(nn.Module):\n",
    "    def __init__(self,in_N,out_N):\n",
    "        super(ConventBlock, self).__init__()\n",
    "        self.Ls  = None\n",
    "        self.net =nn.Sequential(nn.Linear(in_N,out_N),nn.Tanh()) \n",
    "\n",
    "    def forward(self, x):\n",
    "        out = self.net(x)\n",
    "        return out \n",
    "    \n",
    "\n",
    "class ModifiedResBlock(nn.Module):\n",
    "    def __init__(self,in_N,out_N):\n",
    "        super(ModifiedResBlock, self).__init__()\n",
    "        self.Ls  = None\n",
    "        if in_N != out_N:\n",
    "            self.Ls  = nn.Linear(in_N,out_N)\n",
    "        self.net = nn.Sequential(nn.Linear(in_N,out_N),nn.Tanh())\n",
    "    def forward(self, x):\n",
    "        out = self.net(x)\n",
    "        if self.Ls : \n",
    "            x  = self.Ls(x)\n",
    "        out = out + x\n",
    "        return out "
   ]
  },
  {
   "cell_type": "code",
   "execution_count": 3,
   "id": "b889a5e3-3802-4be5-adf5-453ecc8cbead",
   "metadata": {},
   "outputs": [],
   "source": [
    "class Network(torch.nn.Module):\n",
    "    def __init__(self,in_N,m,H_layer,out_N):\n",
    "        super(Network,self).__init__()\n",
    "        layers = []\n",
    "        layers.append(ModifiedResBlock(in_N,m))\n",
    "        for i in range(0,H_layer-1):\n",
    "            layers.append(ModifiedResBlock(m,m))\n",
    "        layers.append(nn.Linear(m,out_N))\n",
    "        self.net = nn.Sequential(*layers)\n",
    "        \n",
    "    def forward(self,x,y):\n",
    "        data = torch.cat((x,y),dim=1);\n",
    "        out  = self.net(data)\n",
    "        return out\n",
    "        \n",
    "def init_weights(m):\n",
    "    if type(m) == nn.Linear:\n",
    "        nn.init.xavier_normal_(m.weight.data)\n",
    "        nn.init.zeros_(m.bias)"
   ]
  },
  {
   "cell_type": "code",
   "execution_count": 4,
   "id": "beba5441-30f1-40d7-93da-8a373f7415a3",
   "metadata": {},
   "outputs": [],
   "source": [
    "omega = torch.tensor([1.0, 3.0])\n",
    "def ue(x,y,omega):\n",
    "    return torch.cos(omega[0]*np.pi*x)*torch.cos(omega[1]*np.pi*y)\n",
    "\n",
    "def ue_xx(x,y,omega):\n",
    "    return -(omega[0]*np.pi).pow(2) * ue(x,y,omega)\n",
    "\n",
    "def ue_yy(x,y,omega):\n",
    "    return -(omega[1]*np.pi).pow(2) * ue(x,y,omega)\n",
    "\n",
    "def source_function(x,y,omega):\n",
    "    return ue_xx(x,y,omega) + ue_yy(x,y,omega)\n"
   ]
  },
  {
   "cell_type": "code",
   "execution_count": 5,
   "id": "ad4b97bf-8ddf-49ca-be5d-78eff7801b73",
   "metadata": {},
   "outputs": [],
   "source": [
    "def fetch_interior_points(N=128):\n",
    "    phi     = torch.rand(N,1) * 2 * np.pi\n",
    "    rho     = -1 + torch.cos(phi)*torch.sin(4*phi)\n",
    "    radius  = rho*torch.sqrt(torch.rand(N,1))\n",
    "    x       = 0.55*radius*torch.cos(phi)\n",
    "    y       = 0.75*radius*torch.sin(phi)\n",
    "    return x,y\n",
    "\n",
    "def fetch_boundary_points(N=32):\n",
    "    phi     = torch.rand(N,1) * 2 * np.pi\n",
    "    rho     = -1 + torch.cos(phi)*torch.sin(4*phi)\n",
    "    radius  = rho\n",
    "    x       = 0.55*radius*torch.cos(phi)\n",
    "    y       = 0.75*radius*torch.sin(phi)\n",
    "    return x,y\n",
    "    "
   ]
  },
  {
   "cell_type": "code",
   "execution_count": 6,
   "id": "0d317d25-eb00-475b-a792-324d80caa1fe",
   "metadata": {},
   "outputs": [],
   "source": [
    "def physics_loss(model,x,y,omega):\n",
    "    u        = model(x,y)\n",
    "    u_x,u_y  = torch.autograd.grad(u.sum(),(x,y),create_graph=True)\n",
    "    u_xx     = torch.autograd.grad(u_x.sum(),x,create_graph=True)[0]\n",
    "    u_yy     = torch.autograd.grad(u_y.sum(),y,create_graph=True)[0]\n",
    "    \n",
    "    rhs      = source_function(x,y,omega)\n",
    "    lhs      = u_xx + u_yy\n",
    "    pde_loss = (rhs-lhs).pow(2)\n",
    "    return pde_loss"
   ]
  },
  {
   "cell_type": "code",
   "execution_count": 7,
   "id": "b6bc9e5e-0646-4ceb-ab5e-e0c494ee5568",
   "metadata": {},
   "outputs": [],
   "source": [
    "def boundary_loss(model,x,y,omega):\n",
    "    u       = model(x,y)\n",
    "    u_      = ue(x,y,omega)\n",
    "    e       = (u - u_) \n",
    "    bc_loss = e.pow(2)\n",
    "    return bc_loss"
   ]
  },
  {
   "cell_type": "code",
   "execution_count": 8,
   "id": "44d27ecd-485e-4247-a301-c123cf3a4e6e",
   "metadata": {},
   "outputs": [
    {
     "name": "stdout",
     "output_type": "stream",
     "text": [
      "Network(\n",
      "  (net): Sequential(\n",
      "    (0): ModifiedResBlock(\n",
      "      (Ls): Linear(in_features=2, out_features=50, bias=True)\n",
      "      (net): Sequential(\n",
      "        (0): Linear(in_features=2, out_features=50, bias=True)\n",
      "        (1): Tanh()\n",
      "      )\n",
      "    )\n",
      "    (1): ModifiedResBlock(\n",
      "      (net): Sequential(\n",
      "        (0): Linear(in_features=50, out_features=50, bias=True)\n",
      "        (1): Tanh()\n",
      "      )\n",
      "    )\n",
      "    (2): ModifiedResBlock(\n",
      "      (net): Sequential(\n",
      "        (0): Linear(in_features=50, out_features=50, bias=True)\n",
      "        (1): Tanh()\n",
      "      )\n",
      "    )\n",
      "    (3): Linear(in_features=50, out_features=1, bias=True)\n",
      "  )\n",
      ")\n"
     ]
    }
   ],
   "source": [
    "model = Network(in_N=2,m=50,H_layer=3,out_N=1)\n",
    "model.apply(init_weights)\n",
    "print(model)"
   ]
  },
  {
   "cell_type": "code",
   "execution_count": 9,
   "id": "70934bac-cce4-4918-b85a-8ab016853451",
   "metadata": {},
   "outputs": [
    {
     "name": "stdout",
     "output_type": "stream",
     "text": [
      "5451\n"
     ]
    }
   ],
   "source": [
    "pytorch_total_params = sum(p.numel() for p in model.parameters())\n",
    "print(pytorch_total_params)"
   ]
  },
  {
   "cell_type": "code",
   "execution_count": 10,
   "id": "b9f88fc3-cb7d-4434-8835-27a3742a09c2",
   "metadata": {},
   "outputs": [],
   "source": [
    "def evaluate(model):\n",
    "    model.eval()\n",
    "    x_test,y_test = fetch_interior_points(100000)\n",
    "    u_star  = ue(x_test,y_test,omega)   \n",
    "    u_pred  = model(x_test,y_test).detach()\n",
    "    l2   = np.linalg.norm(u_star- u_pred.detach(), 2)/np.linalg.norm(u_star, 2)\n",
    "    linf = max(abs(u_star- u_pred.detach().numpy()))\n",
    "    return l2,linf.item()"
   ]
  },
  {
   "cell_type": "code",
   "execution_count": null,
   "id": "65639ac2-c9f0-4355-84f0-bd60b099222d",
   "metadata": {},
   "outputs": [
    {
     "name": "stderr",
     "output_type": "stream",
     "text": [
      " 20%|██        | 5006/25000 [01:26<11:19, 29.41it/s]"
     ]
    },
    {
     "name": "stdout",
     "output_type": "stream",
     "text": [
      "relative l2 error :6.004e-03, linf error : 1.280e-02\n",
      "epoch :  5001, penalty loss: 5.417e-09\n"
     ]
    },
    {
     "name": "stderr",
     "output_type": "stream",
     "text": [
      " 40%|████      | 10011/25000 [02:52<07:53, 31.67it/s]"
     ]
    },
    {
     "name": "stdout",
     "output_type": "stream",
     "text": [
      "relative l2 error :2.038e-03, linf error : 5.896e-03\n",
      "epoch : 10001, penalty loss: 7.068e-09\n"
     ]
    },
    {
     "name": "stderr",
     "output_type": "stream",
     "text": [
      " 60%|██████    | 15008/25000 [04:19<05:28, 30.38it/s]"
     ]
    },
    {
     "name": "stdout",
     "output_type": "stream",
     "text": [
      "relative l2 error :1.484e-03, linf error : 5.968e-03\n",
      "epoch : 15001, penalty loss: 3.942e-09\n"
     ]
    },
    {
     "name": "stderr",
     "output_type": "stream",
     "text": [
      " 68%|██████▊   | 17065/25000 [04:53<02:11, 60.23it/s]"
     ]
    }
   ],
   "source": [
    "epochs          = 25000\n",
    "disp            = 5000\n",
    "\n",
    "print_to_consol = True\n",
    "\n",
    "N_dom           = 512\n",
    "\n",
    "N_bc            = 512\n",
    "\n",
    "model.apply(init_weights)\n",
    "\n",
    "# update the optimizer\n",
    "optimizer  = Adam(model.parameters(),lr=1e-2)\n",
    "\n",
    "# update the learning rate scheduler \n",
    "scheduler = ReduceLROnPlateau(optimizer,patience=100,factor=0.95)\n",
    "\n",
    "# initialize penalty parameter\n",
    "mu           = torch.tensor(1.0)\n",
    "\n",
    "# maximum penalty value for safeguarding\n",
    "mu_max      = torch.tensor(1e4)\n",
    "\n",
    "# l2 norm of constraints |C|_2\n",
    "eta          = torch.tensor(0.0)\n",
    "\n",
    "# penalty tolerance\n",
    "epsilon      = torch.tensor(1e-8)\n",
    "\n",
    "# generate boundary points \n",
    "x_bc,y_bc  = fetch_boundary_points(N_bc)\n",
    "\n",
    "# lagrange multipliers \n",
    "lambda_bc  = torch.zeros_like(x_bc)\n",
    "\n",
    "for epoch in tqdm(range(1,epochs+1)):\n",
    "    \n",
    "    optimizer.zero_grad()\n",
    "    # generating collocation points\n",
    "    x_dm,y_dm      = fetch_interior_points(N_dom)\n",
    "    x_dm           = x_dm.requires_grad_(True)\n",
    "    y_dm           = y_dm.requires_grad_(True)\n",
    "\n",
    "    pde_loss       = physics_loss(model,x_dm,y_dm,omega)\n",
    "\n",
    "    bc_constraints = boundary_loss(model,x_bc,y_bc,omega)\n",
    "    bc_loss        = (lambda_bc*bc_constraints).sum()\n",
    "    penalty        = bc_constraints.pow(2).sum()\n",
    "\n",
    "    loss           =  pde_loss.sum() +  bc_loss + 0.5 * mu * penalty\n",
    "\n",
    "    loss.backward()\n",
    "    optimizer.step()\n",
    "    scheduler.step(loss.item())\n",
    "\n",
    "    with torch.no_grad():\n",
    "        if (torch.sqrt(penalty) >= 0.25*eta) and (torch.sqrt(penalty) > epsilon):\n",
    "            mu      = min(mu*2.0, mu_max)\n",
    "            lambda_bc  += mu * bc_constraints\n",
    "        eta = torch.sqrt(penalty)\n",
    "        \n",
    "        if epoch % disp == 0 and print_to_consol:\n",
    "            l2,linf = evaluate(model)\n",
    "            print(f\"relative l2 error :{l2:2.3e}, linf error : {linf :2.3e}\")\n",
    "            print(f'epoch : {epoch+1:5d}, penalty loss: {penalty.item():2.3e}')\n",
    "            \n",
    "# checkpointing the model \n",
    "torch.save(model.state_dict(),f\"poisson.pt\")\n",
    "l2,linf = evaluate(model)\n",
    "print(f\"relative l2 error :{l2:2.3e}, linf error : {linf :2.3e}\")"
   ]
  },
  {
   "cell_type": "code",
   "execution_count": null,
   "id": "861cfd5d-83e3-4b1a-bc4f-83d29c49c7af",
   "metadata": {},
   "outputs": [],
   "source": [
    "model.eval()\n",
    "x_test,y_test = fetch_interior_points(200000)\n",
    "u_star  = ue(x_test,y_test,omega)   \n",
    "u_pred  = model(x_test,y_test).detach()"
   ]
  },
  {
   "cell_type": "code",
   "execution_count": null,
   "id": "24e7c834-8d07-4360-ae9b-bf29764af8ec",
   "metadata": {},
   "outputs": [],
   "source": [
    "L2 = np.linalg.norm(u_star- u_pred.detach(), 2)/np.linalg.norm(u_star, 2)\n",
    "print('Relative l2 error_u: %2.3e' % (L2))\n",
    "\n",
    "Linf = max(abs(u_star- u_pred.detach()))\n",
    "print('Relative linf error_u: %2.3e' % (Linf))"
   ]
  },
  {
   "cell_type": "code",
   "execution_count": null,
   "id": "eb845c03-2baa-4a0a-8b6c-d6f52f749813",
   "metadata": {},
   "outputs": [],
   "source": []
  }
 ],
 "metadata": {
  "kernelspec": {
   "display_name": "Python 3 (ipykernel)",
   "language": "python",
   "name": "python3"
  },
  "language_info": {
   "codemirror_mode": {
    "name": "ipython",
    "version": 3
   },
   "file_extension": ".py",
   "mimetype": "text/x-python",
   "name": "python",
   "nbconvert_exporter": "python",
   "pygments_lexer": "ipython3",
   "version": "3.9.7"
  },
  "widgets": {
   "application/vnd.jupyter.widget-state+json": {
    "state": {},
    "version_major": 2,
    "version_minor": 0
   }
  }
 },
 "nbformat": 4,
 "nbformat_minor": 5
}
